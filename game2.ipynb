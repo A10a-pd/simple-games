{
 "cells": [
  {
   "cell_type": "code",
   "execution_count": 5,
   "id": "abf3c6b6",
   "metadata": {},
   "outputs": [],
   "source": [
    "#Python code for \"Guess which hand?\" game\n",
    "import tkinter as tk\n",
    "import random\n",
    "#=======setting==============\n",
    "root=tk.Tk()\n",
    "root.title(\"Guess which hand?\")\n",
    "root.geometry('350x150')\n",
    "root.resizable(width=False,height=False)\n",
    "root.configure(bg=\"gold\")\n",
    "#=========Frame============\n",
    "f1=tk.Frame(root,width=160,height=70,bg=\"gold\")\n",
    "f1.pack()\n",
    "f2=tk.Frame(root,width=160,height=70,bg=\"gold\")\n",
    "f2.pack()\n",
    "f3=tk.Frame(root,width=1600,height=70,bg=\"gold\")\n",
    "f3.pack()\n",
    "#============Button==========\n",
    "b1=tk.Button(f1,text=\"\\U0001F914 Left hand \",width=10,font=\"arial 12\",command=lambda:lefthand())\n",
    "b1.pack(side=\"left\",padx=20,pady=5)\n",
    "b2=tk.Button(f1,text=\"Right hand \\U0001F914\",width=10,font=\"arial 12\",command=lambda:righthand())\n",
    "b2.pack(side=\"left\",padx=10,pady=5)\n",
    "b3=tk.Button(f3,text=\"\",width=10,font=\"arial 12\",command=lambda:result())\n",
    "b3.pack(padx=10,pady=5)\n",
    "#===========label==============\n",
    "L1=tk.Label(f2,text=\"Result:\",font=\"arial 12 bold\",bg=\"orange\",fg=\"yellow\")\n",
    "L1.pack()\n",
    "#===========function==========\n",
    "def lefthand():\n",
    "    z=random.randint(0,1)\n",
    "    if z==0:\n",
    "        b3[\"text\"]=\"Goal \\U0001F929\"\n",
    "    if z==1:\n",
    "        b3[\"text\"]=\"Empty \\U0001F926\"\n",
    "def righthand():\n",
    "    z=random.randint(0,1)\n",
    "    if z==0:\n",
    "        b3[\"text\"]=\"Goal \\U0001F929\"\n",
    "    if z==1:\n",
    "        b3[\"text\"]=\"Empty \\U0001F926\"\n",
    "#=========Run=============        \n",
    "root.mainloop()\n",
    "   "
   ]
  },
  {
   "cell_type": "code",
   "execution_count": null,
   "id": "9ef9ad52",
   "metadata": {},
   "outputs": [],
   "source": []
  },
  {
   "cell_type": "code",
   "execution_count": null,
   "id": "a0686b47",
   "metadata": {},
   "outputs": [],
   "source": []
  },
  {
   "cell_type": "code",
   "execution_count": null,
   "id": "7fa4574f",
   "metadata": {},
   "outputs": [],
   "source": []
  },
  {
   "cell_type": "code",
   "execution_count": null,
   "id": "afccc1bc",
   "metadata": {},
   "outputs": [],
   "source": []
  }
 ],
 "metadata": {
  "kernelspec": {
   "display_name": "Python 3 (ipykernel)",
   "language": "python",
   "name": "python3"
  },
  "language_info": {
   "codemirror_mode": {
    "name": "ipython",
    "version": 3
   },
   "file_extension": ".py",
   "mimetype": "text/x-python",
   "name": "python",
   "nbconvert_exporter": "python",
   "pygments_lexer": "ipython3",
   "version": "3.11.4"
  }
 },
 "nbformat": 4,
 "nbformat_minor": 5
}
